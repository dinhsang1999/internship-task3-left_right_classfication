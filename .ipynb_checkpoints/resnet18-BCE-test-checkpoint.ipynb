{
 "cells": [
  {
   "cell_type": "code",
   "execution_count": 1,
   "metadata": {
    "_cell_guid": "b1076dfc-b9ad-4769-8c92-a6c4dae69d19",
    "_uuid": "8f2839f25d086af736a60e9eeb907d3b93b6e0e5"
   },
   "outputs": [],
   "source": [
    "# This Python 3 environment comes with many helpful analytics libraries installed\n",
    "# It is defined by the kaggle/python docker image: https://github.com/kaggle/docker-python\n",
    "# For example, here's several helpful packages to load in \n",
    "\n",
    "import numpy as np # linear algebra\n",
    "import pandas as pd # data processing, CSV file I/O (e.g. pd.read_csv)\n",
    "\n",
    "# Input data files are available in the \"../input/\" directory.\n",
    "# For example, running this (by clicking run or pressing Shift+Enter) will list the files in the input directory\n",
    "\n",
    "import os\n",
    "\n",
    "# Any results you write to the current directory are saved as output."
   ]
  },
  {
   "cell_type": "code",
   "execution_count": 2,
   "metadata": {
    "_cell_guid": "79c7e3d0-c299-4dcb-8224-4455121ee9b0",
    "_uuid": "d629ff2d2480ee46fbb7e2d37f6b5fab8052498a"
   },
   "outputs": [],
   "source": [
    "from PIL import Image\n",
    "from PIL import ImageFile\n",
    "ImageFile.LOAD_TRUNCATED_IMAGES = True\n",
    "import torch\n",
    "from torch import nn, optim\n",
    "import torch.nn.functional as F\n",
    "import torch.utils.data as utils\n",
    "from torchvision import transforms, models"
   ]
  },
  {
   "cell_type": "code",
   "execution_count": 3,
   "metadata": {
    "_uuid": "9d9f1b1c3e98cd584c7abc6dfa1a222a03734772"
   },
   "outputs": [],
   "source": [
    "height = 224\n",
    "width = height * 1.5\n",
    "dataset_path = \"./preprocess\""
   ]
  },
  {
   "cell_type": "code",
   "execution_count": 4,
   "metadata": {},
   "outputs": [],
   "source": [
    "dataset_path = '/media/ryan/Ryan 1TB/data/fundus-caothang'\n",
    "file_paths = []\n",
    "for filename in os.listdir(dataset_path):\n",
    "    if filename.endswith('jpg') and filename[0] != '.':\n",
    "        file_paths.append(os.path.join(dataset_path, filename))"
   ]
  },
  {
   "cell_type": "code",
   "execution_count": 5,
   "metadata": {
    "_uuid": "c897a82ea28331b893597e84f9814d4d5d0a57d5"
   },
   "outputs": [],
   "source": [
    "class FundusDataset(utils.Dataset):   \n",
    "    def __init__(self, image_paths, transform=None):\n",
    "        self.image_paths_list = image_paths \n",
    "        # List of image paths      \n",
    "        self.labels_list = [] \n",
    "        # List of labels correlated      \n",
    "        self.transform = transform \n",
    "        # Transformation applying to each data piece            \n",
    "        # Run through the folder and get the label of each image inside  \n",
    "        for filename in image_paths:\n",
    "            self.labels_list.append(0 if 'left' in filename else 1)\n",
    "        \n",
    "    def __getitem__(self, index):      \n",
    "        '''      Is called when get DataLoader iterated      '''      \n",
    "        # Get image path with index      \n",
    "        image_path = self.image_paths_list[index]      \n",
    "        # Read image with Pillow library      \n",
    "        image = Image.open(image_path).convert('RGB')      \n",
    "        # Get label      \n",
    "        image_label = self.labels_list[index]      \n",
    "        # Post-transformation apply for image      \n",
    "        if self.transform != None:          \n",
    "            image = self.transform(image)            \n",
    "        return image, image_label, image_path      \n",
    "    def __len__(self):      \n",
    "        return len(self.image_paths_list)"
   ]
  },
  {
   "cell_type": "code",
   "execution_count": 6,
   "metadata": {
    "_uuid": "85eec0d52795c344bf89a1f2840c379d5bbe30e6"
   },
   "outputs": [],
   "source": [
    "transform = transforms.Compose([transforms.Resize((int(width), int(height))),                                \n",
    "                                transforms.ToTensor(),                                \n",
    "                                transforms.Normalize([0.485, 0.456, 0.406], [0.229, 0.224, 0.225])]) "
   ]
  },
  {
   "cell_type": "code",
   "execution_count": 7,
   "metadata": {},
   "outputs": [],
   "source": [
    "BATCH_SIZE = 64"
   ]
  },
  {
   "cell_type": "code",
   "execution_count": 8,
   "metadata": {},
   "outputs": [],
   "source": [
    "test_dataset = FundusDataset(file_paths, transform)\n",
    "testloader = utils.DataLoader(test_dataset, batch_size=BATCH_SIZE, shuffle=False)"
   ]
  },
  {
   "cell_type": "code",
   "execution_count": 9,
   "metadata": {
    "_uuid": "e9588aed56161598a92831d955fc9d8648cbbe9c"
   },
   "outputs": [],
   "source": [
    "class FundusNet(nn.Module):\n",
    "    def __init__(self, is_trained):\n",
    "        super().__init__()\n",
    "        self.resnet = models.resnet18(pretrained=is_trained)\n",
    "        kernel_count = self.resnet.fc.in_features\n",
    "        self.resnet.fc = nn.Sequential(nn.Linear(2560, 2),nn.Sigmoid())\n",
    "    def forward(self, x):\n",
    "        x = self.resnet(x)\n",
    "        return x"
   ]
  },
  {
   "cell_type": "code",
   "execution_count": 10,
   "metadata": {
    "_uuid": "f2675bfe0a3a3ab6d6c9583a938816b71b22b149"
   },
   "outputs": [
    {
     "name": "stdout",
     "output_type": "stream",
     "text": [
      "CUDA is available!  Training on GPU ...\n"
     ]
    }
   ],
   "source": [
    "train_on_gpu = torch.cuda.is_available()\n",
    "if not train_on_gpu:    \n",
    "    print('CUDA is not available.  Training on CPU ...')\n",
    "else:    \n",
    "    print('CUDA is available!  Training on GPU ...')"
   ]
  },
  {
   "cell_type": "code",
   "execution_count": 11,
   "metadata": {
    "_uuid": "d6644e09dc26ae297f8e476ed3ca0c4445e60c4e"
   },
   "outputs": [
    {
     "name": "stderr",
     "output_type": "stream",
     "text": [
      "/home/ryan/Projects/env/lib/python3.6/site-packages/torch/nn/functional.py:52: UserWarning: size_average and reduce args will be deprecated, please use reduction='elementwise_mean' instead.\n",
      "  warnings.warn(warning.format(ret))\n"
     ]
    }
   ],
   "source": [
    "from torch.optim.lr_scheduler import ReduceLROnPlateau\n",
    "model = FundusNet(True)\n",
    "if train_on_gpu:\n",
    "    model = torch.nn.DataParallel(model).cuda()\n",
    "state_dict = torch.load('best_model.pth')\n",
    "model.load_state_dict(state_dict)\n",
    "loss = nn.BCELoss(size_average = True)\n",
    "optimizer = optim.Adam (model.parameters(), lr=0.001, betas=(0.9, 0.999), eps=1e-08, weight_decay=1e-5)\n",
    "scheduler = ReduceLROnPlateau(optimizer, factor = 0.1, patience = 5, mode = 'min', verbose=True)"
   ]
  },
  {
   "cell_type": "code",
   "execution_count": 12,
   "metadata": {
    "_uuid": "bca3fdf2104f5749d3b786af2ecfca2a0eb3b3db"
   },
   "outputs": [],
   "source": [
    "groundtruths = []\n",
    "predictions = []\n",
    "probabilities = []"
   ]
  },
  {
   "cell_type": "code",
   "execution_count": 13,
   "metadata": {},
   "outputs": [],
   "source": [
    "_ = model.eval()"
   ]
  },
  {
   "cell_type": "code",
   "execution_count": 14,
   "metadata": {},
   "outputs": [
    {
     "name": "stdout",
     "output_type": "stream",
     "text": [
      "Step 33/33"
     ]
    }
   ],
   "source": [
    "import sys\n",
    "import pandas as pd\n",
    "accuracy = 0\n",
    "predictions = {}\n",
    "with torch.no_grad():\n",
    "    for step, (images, labels, paths) in enumerate(testloader):\n",
    "        images, labels = images.cuda(), labels.cuda()\n",
    "        path_lists = list(paths)\n",
    "        for path in path_lists:\n",
    "            predictions[path] = {}\n",
    "        #for idx,label in enumerate(labels.cpu().view(-1).numpy().tolist()):\n",
    "            #predictions[path_lists[idx]]['gt'] = label\n",
    "        output = model.forward(images)\n",
    "        ps = output\n",
    "        for idx, prob in enumerate(ps.cpu().view(-1,2).numpy().tolist()):\n",
    "            predictions[path_lists[idx]]['prob'] = prob\n",
    "        top_p, top_class = ps.topk(1, dim=1)\n",
    "        for idx,pred in enumerate(top_class.cpu().view(-1).numpy().tolist()):\n",
    "            predictions[path_lists[idx]]['pred'] = pred\n",
    "        #equals = top_class == labels.view(*top_class.shape)\n",
    "        #accuracy += torch.mean(equals.type(torch.FloatTensor))\n",
    "        sys.stdout.write(f\"\\rStep {step+1}/{len(testloader)}\")\n",
    "#print(f\"\\nTest accuracy: {accuracy/len(testloader)}\")"
   ]
  },
  {
   "cell_type": "code",
   "execution_count": 15,
   "metadata": {},
   "outputs": [],
   "source": [
    "import pandas as pd\n",
    "#data = pd.DataFrame({'image': [], 'prob_left':[], 'prob_right': [], 'prediction': [],'groundtruth': []})\n",
    "data = pd.DataFrame({'image': [], 'prob_left':[], 'prob_right': [], 'prediction': []})#,'groundtruth': []})"
   ]
  },
  {
   "cell_type": "code",
   "execution_count": 16,
   "metadata": {},
   "outputs": [
    {
     "data": {
      "text/html": [
       "<div>\n",
       "<style scoped>\n",
       "    .dataframe tbody tr th:only-of-type {\n",
       "        vertical-align: middle;\n",
       "    }\n",
       "\n",
       "    .dataframe tbody tr th {\n",
       "        vertical-align: top;\n",
       "    }\n",
       "\n",
       "    .dataframe thead th {\n",
       "        text-align: right;\n",
       "    }\n",
       "</style>\n",
       "<table border=\"1\" class=\"dataframe\">\n",
       "  <thead>\n",
       "    <tr style=\"text-align: right;\">\n",
       "      <th></th>\n",
       "      <th>image</th>\n",
       "      <th>prob_left</th>\n",
       "      <th>prob_right</th>\n",
       "      <th>prediction</th>\n",
       "    </tr>\n",
       "  </thead>\n",
       "  <tbody>\n",
       "    <tr>\n",
       "      <th>0</th>\n",
       "      <td>/media/ryan/Ryan 1TB/data/fundus-caothang/2018...</td>\n",
       "      <td>0.008113</td>\n",
       "      <td>0.992014</td>\n",
       "      <td>1.0</td>\n",
       "    </tr>\n",
       "    <tr>\n",
       "      <th>1</th>\n",
       "      <td>/media/ryan/Ryan 1TB/data/fundus-caothang/2018...</td>\n",
       "      <td>0.041668</td>\n",
       "      <td>0.958000</td>\n",
       "      <td>1.0</td>\n",
       "    </tr>\n",
       "    <tr>\n",
       "      <th>2</th>\n",
       "      <td>/media/ryan/Ryan 1TB/data/fundus-caothang/2016...</td>\n",
       "      <td>0.901916</td>\n",
       "      <td>0.096034</td>\n",
       "      <td>0.0</td>\n",
       "    </tr>\n",
       "    <tr>\n",
       "      <th>3</th>\n",
       "      <td>/media/ryan/Ryan 1TB/data/fundus-caothang/2016...</td>\n",
       "      <td>0.064806</td>\n",
       "      <td>0.933829</td>\n",
       "      <td>1.0</td>\n",
       "    </tr>\n",
       "    <tr>\n",
       "      <th>4</th>\n",
       "      <td>/media/ryan/Ryan 1TB/data/fundus-caothang/2016...</td>\n",
       "      <td>0.644123</td>\n",
       "      <td>0.352224</td>\n",
       "      <td>0.0</td>\n",
       "    </tr>\n",
       "  </tbody>\n",
       "</table>\n",
       "</div>"
      ],
      "text/plain": [
       "                                               image  prob_left  prob_right  \\\n",
       "0  /media/ryan/Ryan 1TB/data/fundus-caothang/2018...   0.008113    0.992014   \n",
       "1  /media/ryan/Ryan 1TB/data/fundus-caothang/2018...   0.041668    0.958000   \n",
       "2  /media/ryan/Ryan 1TB/data/fundus-caothang/2016...   0.901916    0.096034   \n",
       "3  /media/ryan/Ryan 1TB/data/fundus-caothang/2016...   0.064806    0.933829   \n",
       "4  /media/ryan/Ryan 1TB/data/fundus-caothang/2016...   0.644123    0.352224   \n",
       "\n",
       "   prediction  \n",
       "0         1.0  \n",
       "1         1.0  \n",
       "2         0.0  \n",
       "3         1.0  \n",
       "4         0.0  "
      ]
     },
     "execution_count": 16,
     "metadata": {},
     "output_type": "execute_result"
    }
   ],
   "source": [
    "for file, val in predictions.items():\n",
    "    row = {'image': file, 'prob_left': val['prob'][0], 'prob_right': val['prob'][1], 'prediction': val['pred']}\n",
    "    data = data.append(row, ignore_index=True)\n",
    "data.head()"
   ]
  },
  {
   "cell_type": "code",
   "execution_count": 17,
   "metadata": {},
   "outputs": [],
   "source": [
    "data.to_csv(\"caothang-result-bce.csv\", index=False)"
   ]
  },
  {
   "cell_type": "code",
   "execution_count": 18,
   "metadata": {},
   "outputs": [
    {
     "data": {
      "text/html": [
       "<div>\n",
       "<style scoped>\n",
       "    .dataframe tbody tr th:only-of-type {\n",
       "        vertical-align: middle;\n",
       "    }\n",
       "\n",
       "    .dataframe tbody tr th {\n",
       "        vertical-align: top;\n",
       "    }\n",
       "\n",
       "    .dataframe thead th {\n",
       "        text-align: right;\n",
       "    }\n",
       "</style>\n",
       "<table border=\"1\" class=\"dataframe\">\n",
       "  <thead>\n",
       "    <tr style=\"text-align: right;\">\n",
       "      <th></th>\n",
       "      <th>image</th>\n",
       "      <th>prob_left</th>\n",
       "      <th>prob_right</th>\n",
       "      <th>prediction</th>\n",
       "    </tr>\n",
       "  </thead>\n",
       "  <tbody>\n",
       "    <tr>\n",
       "      <th>0</th>\n",
       "      <td>/media/ryan/Ryan 1TB/data/fundus-caothang/2018...</td>\n",
       "      <td>0.008113</td>\n",
       "      <td>0.992014</td>\n",
       "      <td>1.0</td>\n",
       "    </tr>\n",
       "    <tr>\n",
       "      <th>1</th>\n",
       "      <td>/media/ryan/Ryan 1TB/data/fundus-caothang/2018...</td>\n",
       "      <td>0.041668</td>\n",
       "      <td>0.958000</td>\n",
       "      <td>1.0</td>\n",
       "    </tr>\n",
       "    <tr>\n",
       "      <th>2</th>\n",
       "      <td>/media/ryan/Ryan 1TB/data/fundus-caothang/2016...</td>\n",
       "      <td>0.901916</td>\n",
       "      <td>0.096034</td>\n",
       "      <td>0.0</td>\n",
       "    </tr>\n",
       "    <tr>\n",
       "      <th>3</th>\n",
       "      <td>/media/ryan/Ryan 1TB/data/fundus-caothang/2016...</td>\n",
       "      <td>0.064806</td>\n",
       "      <td>0.933829</td>\n",
       "      <td>1.0</td>\n",
       "    </tr>\n",
       "    <tr>\n",
       "      <th>4</th>\n",
       "      <td>/media/ryan/Ryan 1TB/data/fundus-caothang/2016...</td>\n",
       "      <td>0.644123</td>\n",
       "      <td>0.352224</td>\n",
       "      <td>0.0</td>\n",
       "    </tr>\n",
       "  </tbody>\n",
       "</table>\n",
       "</div>"
      ],
      "text/plain": [
       "                                               image  prob_left  prob_right  \\\n",
       "0  /media/ryan/Ryan 1TB/data/fundus-caothang/2018...   0.008113    0.992014   \n",
       "1  /media/ryan/Ryan 1TB/data/fundus-caothang/2018...   0.041668    0.958000   \n",
       "2  /media/ryan/Ryan 1TB/data/fundus-caothang/2016...   0.901916    0.096034   \n",
       "3  /media/ryan/Ryan 1TB/data/fundus-caothang/2016...   0.064806    0.933829   \n",
       "4  /media/ryan/Ryan 1TB/data/fundus-caothang/2016...   0.644123    0.352224   \n",
       "\n",
       "   prediction  \n",
       "0         1.0  \n",
       "1         1.0  \n",
       "2         0.0  \n",
       "3         1.0  \n",
       "4         0.0  "
      ]
     },
     "execution_count": 18,
     "metadata": {},
     "output_type": "execute_result"
    }
   ],
   "source": [
    "data.head()"
   ]
  },
  {
   "cell_type": "code",
   "execution_count": 19,
   "metadata": {},
   "outputs": [],
   "source": [
    "def get_label(prob_left, prob_right):\n",
    "    thresholds = [0.1, 0.3, 0.5, 0.7, 0.9]\n",
    "    label = \"\"\n",
    "    for idx, threshold in enumerate(thresholds):\n",
    "        if prob_left < threshold:\n",
    "            label = str(idx)\n",
    "            break\n",
    "    if label == \"\":\n",
    "        label = str(len(thresholds))\n",
    "    old_len = len(label)\n",
    "    for idx, threshold in enumerate(thresholds):\n",
    "        if prob_right < threshold:\n",
    "            label += str(idx)\n",
    "            break\n",
    "    if len(label) == old_len:\n",
    "        label += str(len(thresholds))\n",
    "    return label"
   ]
  },
  {
   "cell_type": "code",
   "execution_count": 21,
   "metadata": {},
   "outputs": [],
   "source": [
    "import sys, os\n",
    "for file, val in predictions.items():\n",
    "    label = get_label(val['prob'][0], val['prob'][1])\n",
    "    #image_name = file.split('/')[-1]\n",
    "    !mkdir -p caothang_result/{label}\n",
    "    !cp \"{file}\" caothang_result/{label}"
   ]
  },
  {
   "cell_type": "code",
   "execution_count": null,
   "metadata": {},
   "outputs": [],
   "source": []
  }
 ],
 "metadata": {
  "kernelspec": {
   "display_name": "ml",
   "language": "python",
   "name": "ml"
  },
  "language_info": {
   "codemirror_mode": {
    "name": "ipython",
    "version": 3
   },
   "file_extension": ".py",
   "mimetype": "text/x-python",
   "name": "python",
   "nbconvert_exporter": "python",
   "pygments_lexer": "ipython3",
   "version": "3.6.6"
  }
 },
 "nbformat": 4,
 "nbformat_minor": 2
}
